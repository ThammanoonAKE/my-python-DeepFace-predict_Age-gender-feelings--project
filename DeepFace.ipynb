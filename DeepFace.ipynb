{
 "cells": [
  {
   "cell_type": "code",
   "execution_count": 2,
   "id": "709804c5",
   "metadata": {},
   "outputs": [
    {
     "name": "stderr",
     "output_type": "stream",
     "text": [
      "Action: emotion: 100%|██████████| 3/3 [00:01<00:00,  2.04it/s]\n",
      "Action: emotion: 100%|██████████| 3/3 [00:00<00:00, 13.68it/s]\n",
      "Action: emotion: 100%|██████████| 3/3 [00:00<00:00, 13.72it/s]\n",
      "Action: emotion: 100%|██████████| 3/3 [00:00<00:00, 13.15it/s]\n",
      "Action: emotion: 100%|██████████| 3/3 [00:00<00:00, 13.06it/s]\n",
      "Action: emotion: 100%|██████████| 3/3 [00:00<00:00, 13.67it/s]\n",
      "Action: emotion: 100%|██████████| 3/3 [00:00<00:00, 14.07it/s]\n",
      "Action: emotion: 100%|██████████| 3/3 [00:00<00:00, 14.06it/s]\n",
      "Action: emotion: 100%|██████████| 3/3 [00:00<00:00, 14.07it/s]\n",
      "Action: emotion: 100%|██████████| 3/3 [00:00<00:00, 14.20it/s]\n",
      "Action: emotion: 100%|██████████| 3/3 [00:00<00:00, 14.51it/s]\n",
      "Action: emotion: 100%|██████████| 3/3 [00:00<00:00, 15.44it/s]\n",
      "Action: emotion: 100%|██████████| 3/3 [00:00<00:00, 15.29it/s]\n",
      "Action: emotion: 100%|██████████| 3/3 [00:00<00:00, 15.42it/s]\n",
      "Action: emotion: 100%|██████████| 3/3 [00:00<00:00, 15.09it/s]\n",
      "Action: emotion: 100%|██████████| 3/3 [00:00<00:00, 15.36it/s]\n",
      "Action: emotion: 100%|██████████| 3/3 [00:00<00:00, 15.20it/s]\n",
      "Action: emotion: 100%|██████████| 3/3 [00:00<00:00, 15.47it/s]\n",
      "Action: emotion: 100%|██████████| 3/3 [00:00<00:00, 15.05it/s]\n",
      "Action: emotion: 100%|██████████| 3/3 [00:00<00:00, 15.48it/s]\n",
      "Action: emotion: 100%|██████████| 3/3 [00:00<00:00, 15.09it/s]\n",
      "Action: emotion: 100%|██████████| 3/3 [00:00<00:00, 15.25it/s]\n",
      "Action: emotion: 100%|██████████| 3/3 [00:00<00:00, 15.08it/s]\n",
      "Action: emotion: 100%|██████████| 3/3 [00:00<00:00, 15.28it/s]\n",
      "Action: emotion: 100%|██████████| 3/3 [00:00<00:00, 15.20it/s]\n",
      "Action: emotion: 100%|██████████| 3/3 [00:00<00:00, 15.36it/s]\n",
      "Action: emotion: 100%|██████████| 3/3 [00:00<00:00, 15.41it/s]\n",
      "Action: emotion: 100%|██████████| 3/3 [00:00<00:00, 14.86it/s]\n",
      "Action: emotion: 100%|██████████| 3/3 [00:00<00:00, 14.80it/s]\n",
      "Action: emotion: 100%|██████████| 3/3 [00:00<00:00, 14.72it/s]\n",
      "Action: emotion: 100%|██████████| 3/3 [00:00<00:00, 14.02it/s]\n",
      "Action: emotion: 100%|██████████| 3/3 [00:00<00:00, 14.97it/s]\n",
      "Action: emotion: 100%|██████████| 3/3 [00:00<00:00, 14.87it/s]\n",
      "Action: emotion: 100%|██████████| 3/3 [00:00<00:00, 15.05it/s]\n",
      "Action: emotion: 100%|██████████| 3/3 [00:00<00:00, 14.69it/s]\n",
      "Action: emotion: 100%|██████████| 3/3 [00:00<00:00, 15.01it/s]\n"
     ]
    }
   ],
   "source": [
    "import cv2\n",
    "from deepface import DeepFace\n",
    "\n",
    "# เปิดกล้อง\n",
    "cap = cv2.VideoCapture(0)\n",
    "\n",
    "while True:\n",
    "    ret, frame = cap.read()\n",
    "    if not ret:\n",
    "        break\n",
    "\n",
    "    try:\n",
    "        # วิเคราะห์เฟรม (พร้อมระบุ backend ที่เสถียร และป้องกัน crash)\n",
    "        result = DeepFace.analyze(\n",
    "            frame,\n",
    "            actions=['age', 'gender', 'emotion'],\n",
    "            detector_backend='opencv',  # หรือ 'mediapipe'\n",
    "            enforce_detection=False\n",
    "        )\n",
    "\n",
    "        # ตรวจว่า result เป็น list หรือ dict\n",
    "        if isinstance(result, list):\n",
    "            result = result[0]\n",
    "\n",
    "        age = result.get('age', 'N/A')\n",
    "        gender = result.get('gender', 'N/A')\n",
    "        emotion = result.get('dominant_emotion', 'N/A')\n",
    "\n",
    "        # วาดข้อความบนภาพ\n",
    "        text = f\"Age: {age} | Gender: {gender} | Emotion: {emotion}\"\n",
    "        cv2.putText(frame, text, (20, 40), cv2.FONT_HERSHEY_SIMPLEX,\n",
    "                    0.9, (0, 255, 0), 2, cv2.LINE_AA)\n",
    "\n",
    "    except Exception as e:\n",
    "        print(\"Error:\", e)\n",
    "\n",
    "    # แสดงภาพ\n",
    "    cv2.imshow(\"Real-Time Emotion/Age/Gender Analysis\", frame)\n",
    "\n",
    "    # ออกจากโปรแกรมเมื่อกด 'q'\n",
    "    if cv2.waitKey(1) & 0xFF == ord('q'):\n",
    "        break\n",
    "\n",
    "# ปิดกล้องและหน้าต่าง\n",
    "cap.release()\n",
    "cv2.destroyAllWindows()"
   ]
  },
  {
   "cell_type": "code",
   "execution_count": null,
   "id": "665ced84",
   "metadata": {},
   "outputs": [
    {
     "ename": "",
     "evalue": "",
     "output_type": "error",
     "traceback": [
      "\u001b[1;31mThe kernel failed to start as 'TypeAliasType' could not be imported from 'c:\\Users\\earth\\anaconda3\\envs\\DeepFace-GPU\\lib\\site-packages\\typing_extensions.py'.\n",
      "\u001b[1;31mClick <a href='https://aka.ms/kernelFailuresModuleImportErrFromFile'>here</a> for more info."
     ]
    }
   ],
   "source": [
    "import cv2\n",
    "from deepface import DeepFace\n",
    "import os\n",
    "import numpy as np\n",
    "\n",
    "# ระบุพาธของไฟล์วิดีโอ\n",
    "video_path = \"girl.mp4\"  # เปลี่ยนเป็นชื่อไฟล์วิดีโอของคุณ\n",
    "\n",
    "# ตรวจสอบว่าไฟล์วิดีโอมีอยู่จริง\n",
    "if not os.path.exists(video_path):\n",
    "    print(f\"ไม่พบไฟล์วิดีโอ: {video_path}\")\n",
    "    print(\"กรุณาใส่ชื่อไฟล์วิดีโอที่ถูกต้อง\")\n",
    "    exit()\n",
    "\n",
    "# เปิดไฟล์วิดีโอ\n",
    "cap = cv2.VideoCapture(video_path)\n",
    "\n",
    "# ตรวจสอบว่าเปิดวิดีโอได้หรือไม่\n",
    "if not cap.isOpened():\n",
    "    print(\"ไม่สามารถเปิดไฟล์วิดีโอได้\")\n",
    "    exit()\n",
    "\n",
    "# ดึงข้อมูลวิดีโอ\n",
    "fps = int(cap.get(cv2.CAP_PROP_FPS))\n",
    "total_frames = int(cap.get(cv2.CAP_PROP_FRAME_COUNT))\n",
    "duration = total_frames / fps\n",
    "\n",
    "print(f\"กำลังวิเคราะห์วิดีโอ: {video_path}\")\n",
    "print(f\"FPS: {fps}, จำนวนเฟรม: {total_frames}, ระยะเวลา: {duration:.2f} วินาที\")\n",
    "\n",
    "frame_count = 0\n",
    "\n",
    "# เก็บข้อมูลการวิเคราะห์ล่าสุด (สำหรับตาราง)\n",
    "analysis_history = []\n",
    "max_history = 10  # แสดงข้อมูล 10 ช่วงเวลาล่าสุด\n",
    "\n",
    "def create_table_image(history, current_data=None):\n",
    "    \"\"\"สร้างภาพตารางข้อมูลการวิเคราะห์\"\"\"\n",
    "    table_height = 400\n",
    "    table_width = 600\n",
    "    table_img = np.zeros((table_height, table_width, 3), dtype=np.uint8)\n",
    "    table_img.fill(30)  # พื้นหลังสีเทาเข้ม\n",
    "    \n",
    "    # หัวตาราง\n",
    "    headers = [\"Time(s)\", \"Age\", \"Gender\", \"Emotion\"]\n",
    "    header_y = 40\n",
    "    col_widths = [100, 80, 120, 200]\n",
    "    col_x = [50, 150, 230, 350]\n",
    "    \n",
    "    # วาดหัวตาราง\n",
    "    for i, header in enumerate(headers):\n",
    "        cv2.putText(table_img, header, (col_x[i], header_y), \n",
    "                   cv2.FONT_HERSHEY_SIMPLEX, 0.6, (255, 255, 255), 2)\n",
    "    \n",
    "    # วาดเส้นใต้หัวตาราง\n",
    "    cv2.line(table_img, (30, header_y + 10), (table_width - 30, header_y + 10), \n",
    "             (255, 255, 255), 2)\n",
    "    \n",
    "    # วาดข้อมูลในตาราง\n",
    "    start_y = header_y + 40\n",
    "    row_height = 30\n",
    "    \n",
    "    # แสดงข้อมูลปัจจุบัน (สีเขียว)\n",
    "    if current_data:\n",
    "        y_pos = start_y\n",
    "        data = [\n",
    "            f\"{current_data['time']:.1f}\",\n",
    "            str(current_data['age']),\n",
    "            current_data['gender'],\n",
    "            current_data['emotion']\n",
    "        ]\n",
    "        \n",
    "        for i, value in enumerate(data):\n",
    "            cv2.putText(table_img, value, (col_x[i], y_pos), \n",
    "                       cv2.FONT_HERSHEY_SIMPLEX, 0.5, (0, 255, 0), 1)\n",
    "        \n",
    "        # วาดเส้นใต้แถวปัจจุบัน\n",
    "        cv2.line(table_img, (30, y_pos + 5), (table_width - 30, y_pos + 5), \n",
    "                 (0, 255, 0), 1)\n",
    "    \n",
    "    # แสดงประวัติ (สีขาว)\n",
    "    for idx, record in enumerate(history[-9:]):  # แสดง 9 แถวก่อนหน้า\n",
    "        y_pos = start_y + (idx + 2) * row_height\n",
    "        if y_pos > table_height - 30:\n",
    "            break\n",
    "            \n",
    "        data = [\n",
    "            f\"{record['time']:.1f}\",\n",
    "            str(record['age']),\n",
    "            record['gender'],\n",
    "            record['emotion']\n",
    "        ]\n",
    "        \n",
    "        for i, value in enumerate(data):\n",
    "            cv2.putText(table_img, value, (col_x[i], y_pos), \n",
    "                       cv2.FONT_HERSHEY_SIMPLEX, 0.4, (200, 200, 200), 1)\n",
    "    \n",
    "    # วาดกรอบตาราง\n",
    "    cv2.rectangle(table_img, (30, 20), (table_width - 30, table_height - 20), \n",
    "                  (255, 255, 255), 2)\n",
    "    \n",
    "    # วาดเส้นแนวตั้ง\n",
    "    for x in col_x[1:]:\n",
    "        cv2.line(table_img, (x - 10, 20), (x - 10, table_height - 20), \n",
    "                 (255, 255, 255), 1)\n",
    "    \n",
    "    return table_img\n",
    "\n",
    "while True:\n",
    "    ret, frame = cap.read()\n",
    "    if not ret:\n",
    "        print(\"จบการวิเคราะห์วิดีโอ\")\n",
    "        break\n",
    "\n",
    "    frame_count += 1\n",
    "    current_time = frame_count / fps\n",
    "\n",
    "    try:\n",
    "        # วิเคราะห์เฟรม (ทุก 5 เฟรมเพื่อลดการประมวลผล)\n",
    "        if frame_count % 5 == 0:\n",
    "            result = DeepFace.analyze(\n",
    "                frame,\n",
    "                actions=['age', 'gender', 'emotion'],\n",
    "                detector_backend='opencv',\n",
    "                enforce_detection=False\n",
    "            )\n",
    "\n",
    "            # ตรวจว่า result เป็น list หรือ dict\n",
    "            if isinstance(result, list):\n",
    "                result = result[0]\n",
    "\n",
    "            age = result.get('age', 'N/A')\n",
    "            gender_data = result.get('gender', {})\n",
    "            if isinstance(gender_data, dict):\n",
    "                gender = max(gender_data, key=gender_data.get) if gender_data else 'N/A'\n",
    "            else:\n",
    "                gender = gender_data\n",
    "            emotion = result.get('dominant_emotion', 'N/A')\n",
    "\n",
    "            # เก็บข้อมูลล่าสุด\n",
    "            current_analysis = {\n",
    "                'time': current_time,\n",
    "                'age': age,\n",
    "                'gender': gender,\n",
    "                'emotion': emotion\n",
    "            }\n",
    "            \n",
    "            # เพิ่มข้อมูลใหม่ลงในประวัติ\n",
    "            analysis_history.append(current_analysis.copy())\n",
    "            if len(analysis_history) > max_history:\n",
    "                analysis_history.pop(0)\n",
    "        else:\n",
    "            # ใช้ข้อมูลล่าสุดถ้าไม่ได้วิเคราะห์เฟรมนี้\n",
    "            if analysis_history:\n",
    "                current_analysis = analysis_history[-1].copy()\n",
    "                current_analysis['time'] = current_time\n",
    "            else:\n",
    "                current_analysis = {\n",
    "                    'time': current_time,\n",
    "                    'age': 'N/A',\n",
    "                    'gender': 'N/A', \n",
    "                    'emotion': 'N/A'\n",
    "                }\n",
    "\n",
    "        # วาดข้อความบนวิดีโอ\n",
    "        text1 = f\"Age: {current_analysis['age']} | Gender: {current_analysis['gender']} | Emotion: {current_analysis['emotion']}\"\n",
    "        text2 = f\"Time: {current_time:.2f}s | Frame: {frame_count}/{total_frames}\"\n",
    "        \n",
    "        cv2.putText(frame, text1, (20, 40), cv2.FONT_HERSHEY_SIMPLEX,\n",
    "                    0.8, (0, 255, 0), 2, cv2.LINE_AA)\n",
    "        cv2.putText(frame, text2, (20, 80), cv2.FONT_HERSHEY_SIMPLEX,\n",
    "                    0.6, (255, 255, 255), 2, cv2.LINE_AA)\n",
    "\n",
    "        # สร้างตารางข้อมูล\n",
    "        table_img = create_table_image(analysis_history[:-1] if len(analysis_history) > 1 else [], \n",
    "                                     current_analysis)\n",
    "\n",
    "        # แสดงความคืบหน้า\n",
    "        progress = (frame_count / total_frames) * 100\n",
    "        print(f\"\\rกำลังประมวลผล: {progress:.1f}% ({frame_count}/{total_frames})\", end=\"\")\n",
    "\n",
    "    except Exception as e:\n",
    "        print(f\"\\nError ที่เฟรม {frame_count}: {e}\")\n",
    "        # สร้างตารางว่างถ้าเกิดข้อผิดพลาด\n",
    "        table_img = create_table_image(analysis_history)\n",
    "\n",
    "    # แสดงภาพวิดีโอและตาราง\n",
    "    cv2.imshow(\"Video Analysis\", frame)\n",
    "    cv2.imshow(\"Analysis Data Table\", table_img)\n",
    "\n",
    "    # ออกจากโปรแกรมเมื่อกด 'q' หรือ 'ESC'\n",
    "    key = cv2.waitKey(1) & 0xFF\n",
    "    if key == ord('q') or key == 27:  # 'q' หรือ ESC\n",
    "        print(\"\\nหยุดการวิเคราะห์โดยผู้ใช้\")\n",
    "        break\n",
    "\n",
    "# ปิดวิดีโอและหน้าต่าง\n",
    "cap.release()\n",
    "cv2.destroyAllWindows()\n",
    "print(\"\\nเสร็จสิ้นการวิเคราะห์\")"
   ]
  },
  {
   "cell_type": "code",
   "execution_count": 5,
   "id": "19031e4c",
   "metadata": {},
   "outputs": [
    {
     "name": "stdout",
     "output_type": "stream",
     "text": [
      "⚠ ไม่พบ GPU - ใช้ CPU\n",
      "กำลังวิเคราะห์วิดีโอ: girl.mp4\n",
      "FPS: 23, จำนวนเฟรม: 6664, ระยะเวลา: 289.74 วินาที\n",
      "กำลังประมวลผล: 0.0% (1/6664) [CPU]\n",
      "============================================================\n",
      "คำแนะนำการใช้งาน:\n",
      "- กด 'q' หรือ 'ESC' เพื่อออกจากโปรแกรม\n",
      "- กด 'Space' เพื่อหยุดชั่วคราว\n",
      "- สีเขียว: จุดมาร์คบนใบหน้า\n",
      "- สีน้ำเงิน: เส้นรอบดวงตา\n",
      "- สีเหลือง: เส้นขอบใบหน้า\n",
      "============================================================\n",
      "กำลังประมวลผล: 0.1% (4/6664) [CPU]"
     ]
    },
    {
     "name": "stderr",
     "output_type": "stream",
     "text": [
      "Action: emotion: 100%|██████████| 3/3 [00:00<00:00, 13.63it/s]\n"
     ]
    },
    {
     "name": "stdout",
     "output_type": "stream",
     "text": [
      "กำลังประมวลผล: 0.1% (9/6664) [CPU]"
     ]
    },
    {
     "name": "stderr",
     "output_type": "stream",
     "text": [
      "Action: emotion: 100%|██████████| 3/3 [00:00<00:00, 14.87it/s]\n"
     ]
    },
    {
     "name": "stdout",
     "output_type": "stream",
     "text": [
      "กำลังประมวลผล: 0.2% (14/6664) [CPU]"
     ]
    },
    {
     "name": "stderr",
     "output_type": "stream",
     "text": [
      "Action: emotion: 100%|██████████| 3/3 [00:00<00:00, 14.51it/s]\n"
     ]
    },
    {
     "name": "stdout",
     "output_type": "stream",
     "text": [
      "กำลังประมวลผล: 0.3% (19/6664) [CPU]"
     ]
    },
    {
     "name": "stderr",
     "output_type": "stream",
     "text": [
      "Action: emotion: 100%|██████████| 3/3 [00:00<00:00, 15.29it/s]\n"
     ]
    },
    {
     "name": "stdout",
     "output_type": "stream",
     "text": [
      "กำลังประมวลผล: 0.4% (24/6664) [CPU]"
     ]
    },
    {
     "name": "stderr",
     "output_type": "stream",
     "text": [
      "Action: emotion: 100%|██████████| 3/3 [00:00<00:00, 14.98it/s]\n"
     ]
    },
    {
     "name": "stdout",
     "output_type": "stream",
     "text": [
      "กำลังประมวลผล: 0.4% (29/6664) [CPU]"
     ]
    },
    {
     "name": "stderr",
     "output_type": "stream",
     "text": [
      "Action: emotion: 100%|██████████| 3/3 [00:00<00:00, 15.73it/s]\n"
     ]
    },
    {
     "name": "stdout",
     "output_type": "stream",
     "text": [
      "กำลังประมวลผล: 0.5% (34/6664) [CPU]"
     ]
    },
    {
     "name": "stderr",
     "output_type": "stream",
     "text": [
      "Action: emotion: 100%|██████████| 3/3 [00:00<00:00, 15.30it/s]\n"
     ]
    },
    {
     "name": "stdout",
     "output_type": "stream",
     "text": [
      "กำลังประมวลผล: 0.6% (39/6664) [CPU]"
     ]
    },
    {
     "name": "stderr",
     "output_type": "stream",
     "text": [
      "Action: emotion: 100%|██████████| 3/3 [00:00<00:00, 15.18it/s]\n"
     ]
    },
    {
     "name": "stdout",
     "output_type": "stream",
     "text": [
      "กำลังประมวลผล: 0.7% (44/6664) [CPU]"
     ]
    },
    {
     "name": "stderr",
     "output_type": "stream",
     "text": [
      "Action: emotion: 100%|██████████| 3/3 [00:00<00:00, 16.20it/s]\n"
     ]
    },
    {
     "name": "stdout",
     "output_type": "stream",
     "text": [
      "กำลังประมวลผล: 0.7% (49/6664) [CPU]"
     ]
    },
    {
     "name": "stderr",
     "output_type": "stream",
     "text": [
      "Action: emotion: 100%|██████████| 3/3 [00:00<00:00, 15.13it/s]\n"
     ]
    },
    {
     "name": "stdout",
     "output_type": "stream",
     "text": [
      "กำลังประมวลผล: 0.8% (54/6664) [CPU]"
     ]
    },
    {
     "name": "stderr",
     "output_type": "stream",
     "text": [
      "Action: emotion: 100%|██████████| 3/3 [00:00<00:00, 15.84it/s]\n"
     ]
    },
    {
     "name": "stdout",
     "output_type": "stream",
     "text": [
      "กำลังประมวลผล: 0.9% (59/6664) [CPU]"
     ]
    },
    {
     "name": "stderr",
     "output_type": "stream",
     "text": [
      "Action: emotion: 100%|██████████| 3/3 [00:00<00:00, 16.07it/s]\n"
     ]
    },
    {
     "name": "stdout",
     "output_type": "stream",
     "text": [
      "กำลังประมวลผล: 1.0% (64/6664) [CPU]"
     ]
    },
    {
     "name": "stderr",
     "output_type": "stream",
     "text": [
      "Action: emotion: 100%|██████████| 3/3 [00:00<00:00, 15.90it/s]\n"
     ]
    },
    {
     "name": "stdout",
     "output_type": "stream",
     "text": [
      "กำลังประมวลผล: 1.0% (69/6664) [CPU]"
     ]
    },
    {
     "name": "stderr",
     "output_type": "stream",
     "text": [
      "Action: emotion: 100%|██████████| 3/3 [00:00<00:00, 15.77it/s]\n"
     ]
    },
    {
     "name": "stdout",
     "output_type": "stream",
     "text": [
      "กำลังประมวลผล: 1.1% (74/6664) [CPU]"
     ]
    },
    {
     "name": "stderr",
     "output_type": "stream",
     "text": [
      "Action: emotion: 100%|██████████| 3/3 [00:00<00:00, 15.61it/s]\n"
     ]
    },
    {
     "name": "stdout",
     "output_type": "stream",
     "text": [
      "กำลังประมวลผล: 1.2% (79/6664) [CPU]"
     ]
    },
    {
     "name": "stderr",
     "output_type": "stream",
     "text": [
      "Action: emotion: 100%|██████████| 3/3 [00:00<00:00, 15.85it/s]\n"
     ]
    },
    {
     "name": "stdout",
     "output_type": "stream",
     "text": [
      "กำลังประมวลผล: 1.3% (84/6664) [CPU]"
     ]
    },
    {
     "name": "stderr",
     "output_type": "stream",
     "text": [
      "Action: emotion: 100%|██████████| 3/3 [00:00<00:00, 15.84it/s]\n"
     ]
    },
    {
     "name": "stdout",
     "output_type": "stream",
     "text": [
      "กำลังประมวลผล: 1.3% (89/6664) [CPU]"
     ]
    },
    {
     "name": "stderr",
     "output_type": "stream",
     "text": [
      "Action: emotion: 100%|██████████| 3/3 [00:00<00:00, 17.05it/s]\n"
     ]
    },
    {
     "name": "stdout",
     "output_type": "stream",
     "text": [
      "กำลังประมวลผล: 1.4% (94/6664) [CPU]"
     ]
    },
    {
     "name": "stderr",
     "output_type": "stream",
     "text": [
      "Action: emotion: 100%|██████████| 3/3 [00:00<00:00, 16.98it/s]\n"
     ]
    },
    {
     "name": "stdout",
     "output_type": "stream",
     "text": [
      "กำลังประมวลผล: 1.5% (99/6664) [CPU]"
     ]
    },
    {
     "name": "stderr",
     "output_type": "stream",
     "text": [
      "Action: emotion: 100%|██████████| 3/3 [00:00<00:00, 17.06it/s]\n"
     ]
    },
    {
     "name": "stdout",
     "output_type": "stream",
     "text": [
      "กำลังประมวลผล: 1.6% (104/6664) [CPU]"
     ]
    },
    {
     "name": "stderr",
     "output_type": "stream",
     "text": [
      "Action: emotion: 100%|██████████| 3/3 [00:00<00:00, 17.17it/s]\n"
     ]
    },
    {
     "name": "stdout",
     "output_type": "stream",
     "text": [
      "กำลังประมวลผล: 1.6% (109/6664) [CPU]"
     ]
    },
    {
     "name": "stderr",
     "output_type": "stream",
     "text": [
      "Action: emotion: 100%|██████████| 3/3 [00:00<00:00, 15.96it/s]\n"
     ]
    },
    {
     "name": "stdout",
     "output_type": "stream",
     "text": [
      "กำลังประมวลผล: 1.7% (114/6664) [CPU]"
     ]
    },
    {
     "name": "stderr",
     "output_type": "stream",
     "text": [
      "Action: emotion: 100%|██████████| 3/3 [00:00<00:00, 15.89it/s]\n"
     ]
    },
    {
     "name": "stdout",
     "output_type": "stream",
     "text": [
      "กำลังประมวลผล: 1.8% (119/6664) [CPU]"
     ]
    },
    {
     "name": "stderr",
     "output_type": "stream",
     "text": [
      "Action: emotion: 100%|██████████| 3/3 [00:00<00:00, 16.28it/s]\n"
     ]
    },
    {
     "name": "stdout",
     "output_type": "stream",
     "text": [
      "กำลังประมวลผล: 1.9% (124/6664) [CPU]"
     ]
    },
    {
     "name": "stderr",
     "output_type": "stream",
     "text": [
      "Action: emotion: 100%|██████████| 3/3 [00:00<00:00, 17.00it/s]\n"
     ]
    },
    {
     "name": "stdout",
     "output_type": "stream",
     "text": [
      "กำลังประมวลผล: 1.9% (129/6664) [CPU]"
     ]
    },
    {
     "name": "stderr",
     "output_type": "stream",
     "text": [
      "Action: emotion: 100%|██████████| 3/3 [00:00<00:00, 16.73it/s]\n"
     ]
    },
    {
     "name": "stdout",
     "output_type": "stream",
     "text": [
      "กำลังประมวลผล: 2.0% (134/6664) [CPU]"
     ]
    },
    {
     "name": "stderr",
     "output_type": "stream",
     "text": [
      "Action: emotion: 100%|██████████| 3/3 [00:00<00:00, 15.17it/s]\n"
     ]
    },
    {
     "name": "stdout",
     "output_type": "stream",
     "text": [
      "กำลังประมวลผล: 2.1% (139/6664) [CPU]"
     ]
    },
    {
     "name": "stderr",
     "output_type": "stream",
     "text": [
      "Action: emotion: 100%|██████████| 3/3 [00:00<00:00, 17.06it/s]\n"
     ]
    },
    {
     "name": "stdout",
     "output_type": "stream",
     "text": [
      "กำลังประมวลผล: 2.2% (144/6664) [CPU]"
     ]
    },
    {
     "name": "stderr",
     "output_type": "stream",
     "text": [
      "Action: emotion: 100%|██████████| 3/3 [00:00<00:00, 16.63it/s]\n"
     ]
    },
    {
     "name": "stdout",
     "output_type": "stream",
     "text": [
      "กำลังประมวลผล: 2.2% (149/6664) [CPU]"
     ]
    },
    {
     "name": "stderr",
     "output_type": "stream",
     "text": [
      "Action: emotion: 100%|██████████| 3/3 [00:00<00:00, 16.78it/s]\n",
      "Action: emotion: 100%|██████████| 3/3 [00:00<00:00, 17.34it/s]\n"
     ]
    },
    {
     "name": "stdout",
     "output_type": "stream",
     "text": [
      "กำลังประมวลผล: 2.3% (154/6664) [CPU]"
     ]
    },
    {
     "name": "stderr",
     "output_type": "stream",
     "text": [
      "Action: emotion: 100%|██████████| 3/3 [00:00<00:00, 16.91it/s]\n"
     ]
    },
    {
     "name": "stdout",
     "output_type": "stream",
     "text": [
      "กำลังประมวลผล: 2.4% (159/6664) [CPU]"
     ]
    },
    {
     "name": "stderr",
     "output_type": "stream",
     "text": [
      "Action: emotion: 100%|██████████| 3/3 [00:00<00:00, 16.30it/s]\n"
     ]
    },
    {
     "name": "stdout",
     "output_type": "stream",
     "text": [
      "กำลังประมวลผล: 2.5% (164/6664) [CPU]"
     ]
    },
    {
     "name": "stderr",
     "output_type": "stream",
     "text": [
      "Action: emotion: 100%|██████████| 3/3 [00:00<00:00, 16.82it/s]\n"
     ]
    },
    {
     "name": "stdout",
     "output_type": "stream",
     "text": [
      "กำลังประมวลผล: 2.5% (169/6664) [CPU]"
     ]
    },
    {
     "name": "stderr",
     "output_type": "stream",
     "text": [
      "Action: emotion: 100%|██████████| 3/3 [00:00<00:00, 16.77it/s]\n"
     ]
    },
    {
     "name": "stdout",
     "output_type": "stream",
     "text": [
      "กำลังประมวลผล: 2.6% (174/6664) [CPU]"
     ]
    },
    {
     "name": "stderr",
     "output_type": "stream",
     "text": [
      "Action: emotion: 100%|██████████| 3/3 [00:00<00:00, 16.82it/s]\n"
     ]
    },
    {
     "name": "stdout",
     "output_type": "stream",
     "text": [
      "กำลังประมวลผล: 2.7% (179/6664) [CPU]"
     ]
    },
    {
     "name": "stderr",
     "output_type": "stream",
     "text": [
      "Action: emotion: 100%|██████████| 3/3 [00:00<00:00, 17.04it/s]\n"
     ]
    },
    {
     "name": "stdout",
     "output_type": "stream",
     "text": [
      "กำลังประมวลผล: 2.8% (184/6664) [CPU]"
     ]
    },
    {
     "name": "stderr",
     "output_type": "stream",
     "text": [
      "Action: emotion: 100%|██████████| 3/3 [00:00<00:00, 16.90it/s]\n"
     ]
    },
    {
     "name": "stdout",
     "output_type": "stream",
     "text": [
      "กำลังประมวลผล: 2.8% (189/6664) [CPU]"
     ]
    },
    {
     "name": "stderr",
     "output_type": "stream",
     "text": [
      "Action: emotion: 100%|██████████| 3/3 [00:00<00:00, 16.55it/s]\n"
     ]
    },
    {
     "name": "stdout",
     "output_type": "stream",
     "text": [
      "กำลังประมวลผล: 2.9% (194/6664) [CPU]"
     ]
    },
    {
     "name": "stderr",
     "output_type": "stream",
     "text": [
      "Action: emotion: 100%|██████████| 3/3 [00:00<00:00, 17.21it/s]\n"
     ]
    },
    {
     "name": "stdout",
     "output_type": "stream",
     "text": [
      "กำลังประมวลผล: 3.0% (199/6664) [CPU]"
     ]
    },
    {
     "name": "stderr",
     "output_type": "stream",
     "text": [
      "Action: emotion: 100%|██████████| 3/3 [00:00<00:00, 16.60it/s]\n"
     ]
    },
    {
     "name": "stdout",
     "output_type": "stream",
     "text": [
      "กำลังประมวลผล: 3.1% (204/6664) [CPU]"
     ]
    },
    {
     "name": "stderr",
     "output_type": "stream",
     "text": [
      "Action: emotion: 100%|██████████| 3/3 [00:00<00:00, 17.17it/s]\n"
     ]
    },
    {
     "name": "stdout",
     "output_type": "stream",
     "text": [
      "กำลังประมวลผล: 3.1% (209/6664) [CPU]"
     ]
    },
    {
     "name": "stderr",
     "output_type": "stream",
     "text": [
      "Action: emotion: 100%|██████████| 3/3 [00:00<00:00, 16.64it/s]\n"
     ]
    },
    {
     "name": "stdout",
     "output_type": "stream",
     "text": [
      "กำลังประมวลผล: 3.2% (214/6664) [CPU]"
     ]
    },
    {
     "name": "stderr",
     "output_type": "stream",
     "text": [
      "Action: emotion: 100%|██████████| 3/3 [00:00<00:00, 16.87it/s]\n"
     ]
    },
    {
     "name": "stdout",
     "output_type": "stream",
     "text": [
      "กำลังประมวลผล: 3.3% (219/6664) [CPU]"
     ]
    },
    {
     "name": "stderr",
     "output_type": "stream",
     "text": [
      "Action: emotion: 100%|██████████| 3/3 [00:00<00:00, 15.69it/s]\n"
     ]
    },
    {
     "name": "stdout",
     "output_type": "stream",
     "text": [
      "กำลังประมวลผล: 3.4% (224/6664) [CPU]"
     ]
    },
    {
     "name": "stderr",
     "output_type": "stream",
     "text": [
      "Action: emotion: 100%|██████████| 3/3 [00:00<00:00, 15.93it/s]\n"
     ]
    },
    {
     "name": "stdout",
     "output_type": "stream",
     "text": [
      "กำลังประมวลผล: 3.4% (229/6664) [CPU]"
     ]
    },
    {
     "name": "stderr",
     "output_type": "stream",
     "text": [
      "Action: emotion: 100%|██████████| 3/3 [00:00<00:00, 16.32it/s]\n"
     ]
    },
    {
     "name": "stdout",
     "output_type": "stream",
     "text": [
      "กำลังประมวลผล: 3.5% (234/6664) [CPU]"
     ]
    },
    {
     "name": "stderr",
     "output_type": "stream",
     "text": [
      "Action: emotion: 100%|██████████| 3/3 [00:00<00:00, 16.18it/s]\n"
     ]
    },
    {
     "name": "stdout",
     "output_type": "stream",
     "text": [
      "กำลังประมวลผล: 3.6% (239/6664) [CPU]"
     ]
    },
    {
     "name": "stderr",
     "output_type": "stream",
     "text": [
      "Action: emotion: 100%|██████████| 3/3 [00:00<00:00, 16.76it/s]\n"
     ]
    },
    {
     "name": "stdout",
     "output_type": "stream",
     "text": [
      "กำลังประมวลผล: 3.7% (244/6664) [CPU]"
     ]
    },
    {
     "name": "stderr",
     "output_type": "stream",
     "text": [
      "Action: emotion: 100%|██████████| 3/3 [00:00<00:00, 16.60it/s]\n"
     ]
    },
    {
     "name": "stdout",
     "output_type": "stream",
     "text": [
      "กำลังประมวลผล: 3.7% (249/6664) [CPU]"
     ]
    },
    {
     "name": "stderr",
     "output_type": "stream",
     "text": [
      "Action: emotion: 100%|██████████| 3/3 [00:00<00:00, 16.88it/s]\n"
     ]
    },
    {
     "name": "stdout",
     "output_type": "stream",
     "text": [
      "กำลังประมวลผล: 3.8% (254/6664) [CPU]"
     ]
    },
    {
     "name": "stderr",
     "output_type": "stream",
     "text": [
      "Action: emotion: 100%|██████████| 3/3 [00:00<00:00, 16.42it/s]\n"
     ]
    },
    {
     "name": "stdout",
     "output_type": "stream",
     "text": [
      "กำลังประมวลผล: 3.9% (259/6664) [CPU]"
     ]
    },
    {
     "name": "stderr",
     "output_type": "stream",
     "text": [
      "Action: emotion: 100%|██████████| 3/3 [00:00<00:00, 16.77it/s]\n"
     ]
    },
    {
     "name": "stdout",
     "output_type": "stream",
     "text": [
      "กำลังประมวลผล: 4.0% (264/6664) [CPU]"
     ]
    },
    {
     "name": "stderr",
     "output_type": "stream",
     "text": [
      "Action: emotion: 100%|██████████| 3/3 [00:00<00:00, 16.87it/s]\n"
     ]
    },
    {
     "name": "stdout",
     "output_type": "stream",
     "text": [
      "กำลังประมวลผล: 4.0% (269/6664) [CPU]"
     ]
    },
    {
     "name": "stderr",
     "output_type": "stream",
     "text": [
      "Action: emotion: 100%|██████████| 3/3 [00:00<00:00, 16.69it/s]\n"
     ]
    },
    {
     "name": "stdout",
     "output_type": "stream",
     "text": [
      "กำลังประมวลผล: 4.1% (274/6664) [CPU]"
     ]
    },
    {
     "name": "stderr",
     "output_type": "stream",
     "text": [
      "Action: emotion: 100%|██████████| 3/3 [00:00<00:00, 16.88it/s]\n"
     ]
    },
    {
     "name": "stdout",
     "output_type": "stream",
     "text": [
      "กำลังประมวลผล: 4.2% (279/6664) [CPU]"
     ]
    },
    {
     "name": "stderr",
     "output_type": "stream",
     "text": [
      "Action: emotion: 100%|██████████| 3/3 [00:00<00:00, 15.81it/s]\n"
     ]
    },
    {
     "name": "stdout",
     "output_type": "stream",
     "text": [
      "กำลังประมวลผล: 4.3% (284/6664) [CPU]"
     ]
    },
    {
     "name": "stderr",
     "output_type": "stream",
     "text": [
      "Action: emotion: 100%|██████████| 3/3 [00:00<00:00, 15.32it/s]\n"
     ]
    },
    {
     "name": "stdout",
     "output_type": "stream",
     "text": [
      "กำลังประมวลผล: 4.3% (289/6664) [CPU]"
     ]
    },
    {
     "name": "stderr",
     "output_type": "stream",
     "text": [
      "Action: emotion: 100%|██████████| 3/3 [00:00<00:00, 15.55it/s]\n"
     ]
    },
    {
     "name": "stdout",
     "output_type": "stream",
     "text": [
      "กำลังประมวลผล: 4.4% (294/6664) [CPU]"
     ]
    },
    {
     "name": "stderr",
     "output_type": "stream",
     "text": [
      "Action: emotion: 100%|██████████| 3/3 [00:00<00:00, 15.28it/s]\n"
     ]
    },
    {
     "name": "stdout",
     "output_type": "stream",
     "text": [
      "กำลังประมวลผล: 4.5% (299/6664) [CPU]"
     ]
    },
    {
     "name": "stderr",
     "output_type": "stream",
     "text": [
      "Action: emotion: 100%|██████████| 3/3 [00:00<00:00, 16.77it/s]\n"
     ]
    },
    {
     "name": "stdout",
     "output_type": "stream",
     "text": [
      "กำลังประมวลผล: 4.6% (304/6664) [CPU]"
     ]
    },
    {
     "name": "stderr",
     "output_type": "stream",
     "text": [
      "Action: emotion: 100%|██████████| 3/3 [00:00<00:00, 16.68it/s]\n"
     ]
    },
    {
     "name": "stdout",
     "output_type": "stream",
     "text": [
      "กำลังประมวลผล: 4.6% (309/6664) [CPU]"
     ]
    },
    {
     "name": "stderr",
     "output_type": "stream",
     "text": [
      "Action: emotion: 100%|██████████| 3/3 [00:00<00:00, 16.73it/s]\n"
     ]
    },
    {
     "name": "stdout",
     "output_type": "stream",
     "text": [
      "กำลังประมวลผล: 4.7% (314/6664) [CPU]"
     ]
    },
    {
     "name": "stderr",
     "output_type": "stream",
     "text": [
      "Action: emotion: 100%|██████████| 3/3 [00:00<00:00, 16.99it/s]\n"
     ]
    },
    {
     "name": "stdout",
     "output_type": "stream",
     "text": [
      "กำลังประมวลผล: 4.8% (319/6664) [CPU]"
     ]
    },
    {
     "name": "stderr",
     "output_type": "stream",
     "text": [
      "Action: emotion: 100%|██████████| 3/3 [00:00<00:00, 16.68it/s]\n"
     ]
    },
    {
     "name": "stdout",
     "output_type": "stream",
     "text": [
      "กำลังประมวลผล: 4.9% (324/6664) [CPU]"
     ]
    },
    {
     "name": "stderr",
     "output_type": "stream",
     "text": [
      "Action: emotion: 100%|██████████| 3/3 [00:00<00:00, 16.96it/s]\n"
     ]
    },
    {
     "name": "stdout",
     "output_type": "stream",
     "text": [
      "กำลังประมวลผล: 4.9% (329/6664) [CPU]"
     ]
    },
    {
     "name": "stderr",
     "output_type": "stream",
     "text": [
      "Action: emotion: 100%|██████████| 3/3 [00:00<00:00, 15.99it/s]\n"
     ]
    },
    {
     "name": "stdout",
     "output_type": "stream",
     "text": [
      "กำลังประมวลผล: 5.0% (334/6664) [CPU]"
     ]
    },
    {
     "name": "stderr",
     "output_type": "stream",
     "text": [
      "Action: emotion: 100%|██████████| 3/3 [00:00<00:00, 16.02it/s]\n"
     ]
    },
    {
     "name": "stdout",
     "output_type": "stream",
     "text": [
      "กำลังประมวลผล: 5.1% (339/6664) [CPU]"
     ]
    },
    {
     "name": "stderr",
     "output_type": "stream",
     "text": [
      "Action: emotion: 100%|██████████| 3/3 [00:00<00:00, 17.11it/s]\n"
     ]
    },
    {
     "name": "stdout",
     "output_type": "stream",
     "text": [
      "กำลังประมวลผล: 5.2% (344/6664) [CPU]"
     ]
    },
    {
     "name": "stderr",
     "output_type": "stream",
     "text": [
      "Action: emotion: 100%|██████████| 3/3 [00:00<00:00, 16.55it/s]\n"
     ]
    },
    {
     "name": "stdout",
     "output_type": "stream",
     "text": [
      "กำลังประมวลผล: 5.2% (349/6664) [CPU]"
     ]
    },
    {
     "name": "stderr",
     "output_type": "stream",
     "text": [
      "Action: emotion: 100%|██████████| 3/3 [00:00<00:00, 17.06it/s]\n"
     ]
    },
    {
     "name": "stdout",
     "output_type": "stream",
     "text": [
      "กำลังประมวลผล: 5.3% (354/6664) [CPU]"
     ]
    },
    {
     "name": "stderr",
     "output_type": "stream",
     "text": [
      "Action: emotion: 100%|██████████| 3/3 [00:00<00:00, 16.36it/s]\n"
     ]
    },
    {
     "name": "stdout",
     "output_type": "stream",
     "text": [
      "กำลังประมวลผล: 5.4% (359/6664) [CPU]"
     ]
    },
    {
     "name": "stderr",
     "output_type": "stream",
     "text": [
      "Action: emotion: 100%|██████████| 3/3 [00:00<00:00, 16.91it/s]\n"
     ]
    },
    {
     "name": "stdout",
     "output_type": "stream",
     "text": [
      "กำลังประมวลผล: 5.5% (364/6664) [CPU]"
     ]
    },
    {
     "name": "stderr",
     "output_type": "stream",
     "text": [
      "Action: emotion: 100%|██████████| 3/3 [00:00<00:00, 16.67it/s]\n"
     ]
    },
    {
     "name": "stdout",
     "output_type": "stream",
     "text": [
      "กำลังประมวลผล: 5.5% (369/6664) [CPU]"
     ]
    },
    {
     "name": "stderr",
     "output_type": "stream",
     "text": [
      "Action: emotion: 100%|██████████| 3/3 [00:00<00:00, 16.37it/s]\n"
     ]
    },
    {
     "name": "stdout",
     "output_type": "stream",
     "text": [
      "กำลังประมวลผล: 5.6% (374/6664) [CPU]"
     ]
    },
    {
     "name": "stderr",
     "output_type": "stream",
     "text": [
      "Action: emotion: 100%|██████████| 3/3 [00:00<00:00, 15.84it/s]\n"
     ]
    },
    {
     "name": "stdout",
     "output_type": "stream",
     "text": [
      "กำลังประมวลผล: 5.7% (379/6664) [CPU]"
     ]
    },
    {
     "name": "stderr",
     "output_type": "stream",
     "text": [
      "Action: emotion: 100%|██████████| 3/3 [00:00<00:00, 15.63it/s]\n"
     ]
    },
    {
     "name": "stdout",
     "output_type": "stream",
     "text": [
      "กำลังประมวลผล: 5.8% (384/6664) [CPU]"
     ]
    },
    {
     "name": "stderr",
     "output_type": "stream",
     "text": [
      "Action: emotion: 100%|██████████| 3/3 [00:00<00:00, 16.59it/s]\n"
     ]
    },
    {
     "name": "stdout",
     "output_type": "stream",
     "text": [
      "กำลังประมวลผล: 5.8% (389/6664) [CPU]"
     ]
    },
    {
     "name": "stderr",
     "output_type": "stream",
     "text": [
      "Action: emotion: 100%|██████████| 3/3 [00:00<00:00, 16.74it/s]\n"
     ]
    },
    {
     "name": "stdout",
     "output_type": "stream",
     "text": [
      "กำลังประมวลผล: 5.9% (394/6664) [CPU]"
     ]
    },
    {
     "name": "stderr",
     "output_type": "stream",
     "text": [
      "Action: emotion: 100%|██████████| 3/3 [00:00<00:00, 16.49it/s]\n"
     ]
    },
    {
     "name": "stdout",
     "output_type": "stream",
     "text": [
      "กำลังประมวลผล: 6.0% (399/6664) [CPU]"
     ]
    },
    {
     "name": "stderr",
     "output_type": "stream",
     "text": [
      "Action: emotion: 100%|██████████| 3/3 [00:00<00:00, 16.64it/s]\n"
     ]
    },
    {
     "name": "stdout",
     "output_type": "stream",
     "text": [
      "กำลังประมวลผล: 6.1% (404/6664) [CPU]"
     ]
    },
    {
     "name": "stderr",
     "output_type": "stream",
     "text": [
      "Action: emotion: 100%|██████████| 3/3 [00:00<00:00, 15.40it/s]\n"
     ]
    },
    {
     "name": "stdout",
     "output_type": "stream",
     "text": [
      "กำลังประมวลผล: 6.1% (409/6664) [CPU]"
     ]
    },
    {
     "name": "stderr",
     "output_type": "stream",
     "text": [
      "Action: emotion: 100%|██████████| 3/3 [00:00<00:00, 16.10it/s]\n"
     ]
    },
    {
     "name": "stdout",
     "output_type": "stream",
     "text": [
      "กำลังประมวลผล: 6.2% (414/6664) [CPU]"
     ]
    },
    {
     "name": "stderr",
     "output_type": "stream",
     "text": [
      "Action: emotion: 100%|██████████| 3/3 [00:00<00:00, 16.70it/s]\n"
     ]
    },
    {
     "name": "stdout",
     "output_type": "stream",
     "text": [
      "กำลังประมวลผล: 6.3% (419/6664) [CPU]"
     ]
    },
    {
     "name": "stderr",
     "output_type": "stream",
     "text": [
      "Action: emotion: 100%|██████████| 3/3 [00:00<00:00, 16.62it/s]\n"
     ]
    },
    {
     "name": "stdout",
     "output_type": "stream",
     "text": [
      "กำลังประมวลผล: 6.4% (424/6664) [CPU]"
     ]
    },
    {
     "name": "stderr",
     "output_type": "stream",
     "text": [
      "Action: emotion: 100%|██████████| 3/3 [00:00<00:00, 16.77it/s]\n"
     ]
    },
    {
     "name": "stdout",
     "output_type": "stream",
     "text": [
      "กำลังประมวลผล: 6.4% (429/6664) [CPU]"
     ]
    },
    {
     "name": "stderr",
     "output_type": "stream",
     "text": [
      "Action: emotion: 100%|██████████| 3/3 [00:00<00:00, 16.46it/s]\n"
     ]
    },
    {
     "name": "stdout",
     "output_type": "stream",
     "text": [
      "กำลังประมวลผล: 6.5% (434/6664) [CPU]"
     ]
    },
    {
     "name": "stderr",
     "output_type": "stream",
     "text": [
      "Action: emotion: 100%|██████████| 3/3 [00:00<00:00, 16.97it/s]\n"
     ]
    },
    {
     "name": "stdout",
     "output_type": "stream",
     "text": [
      "กำลังประมวลผล: 6.6% (439/6664) [CPU]"
     ]
    },
    {
     "name": "stderr",
     "output_type": "stream",
     "text": [
      "Action: emotion: 100%|██████████| 3/3 [00:00<00:00, 15.84it/s]\n"
     ]
    },
    {
     "name": "stdout",
     "output_type": "stream",
     "text": [
      "กำลังประมวลผล: 6.7% (444/6664) [CPU]"
     ]
    },
    {
     "name": "stderr",
     "output_type": "stream",
     "text": [
      "Action: emotion: 100%|██████████| 3/3 [00:00<00:00, 15.85it/s]\n"
     ]
    },
    {
     "name": "stdout",
     "output_type": "stream",
     "text": [
      "กำลังประมวลผล: 6.7% (449/6664) [CPU]"
     ]
    },
    {
     "name": "stderr",
     "output_type": "stream",
     "text": [
      "Action: emotion: 100%|██████████| 3/3 [00:00<00:00, 16.07it/s]\n"
     ]
    },
    {
     "name": "stdout",
     "output_type": "stream",
     "text": [
      "กำลังประมวลผล: 6.8% (454/6664) [CPU]"
     ]
    },
    {
     "name": "stderr",
     "output_type": "stream",
     "text": [
      "Action: emotion: 100%|██████████| 3/3 [00:00<00:00, 16.74it/s]\n"
     ]
    },
    {
     "name": "stdout",
     "output_type": "stream",
     "text": [
      "กำลังประมวลผล: 6.9% (459/6664) [CPU]"
     ]
    },
    {
     "name": "stderr",
     "output_type": "stream",
     "text": [
      "Action: emotion: 100%|██████████| 3/3 [00:00<00:00, 16.87it/s]\n"
     ]
    },
    {
     "name": "stdout",
     "output_type": "stream",
     "text": [
      "กำลังประมวลผล: 7.0% (464/6664) [CPU]"
     ]
    },
    {
     "name": "stderr",
     "output_type": "stream",
     "text": [
      "Action: emotion: 100%|██████████| 3/3 [00:00<00:00, 16.73it/s]\n"
     ]
    },
    {
     "name": "stdout",
     "output_type": "stream",
     "text": [
      "กำลังประมวลผล: 7.0% (469/6664) [CPU]"
     ]
    },
    {
     "name": "stderr",
     "output_type": "stream",
     "text": [
      "Action: emotion: 100%|██████████| 3/3 [00:00<00:00, 16.92it/s]\n"
     ]
    },
    {
     "name": "stdout",
     "output_type": "stream",
     "text": [
      "กำลังประมวลผล: 7.1% (474/6664) [CPU]"
     ]
    },
    {
     "name": "stderr",
     "output_type": "stream",
     "text": [
      "Action: emotion: 100%|██████████| 3/3 [00:00<00:00, 16.71it/s]\n"
     ]
    },
    {
     "name": "stdout",
     "output_type": "stream",
     "text": [
      "กำลังประมวลผล: 7.2% (479/6664) [CPU]"
     ]
    },
    {
     "name": "stderr",
     "output_type": "stream",
     "text": [
      "Action: emotion: 100%|██████████| 3/3 [00:00<00:00, 16.96it/s]\n"
     ]
    },
    {
     "name": "stdout",
     "output_type": "stream",
     "text": [
      "กำลังประมวลผล: 7.3% (484/6664) [CPU]"
     ]
    },
    {
     "name": "stderr",
     "output_type": "stream",
     "text": [
      "Action: emotion: 100%|██████████| 3/3 [00:00<00:00, 15.75it/s]\n"
     ]
    },
    {
     "name": "stdout",
     "output_type": "stream",
     "text": [
      "กำลังประมวลผล: 7.3% (489/6664) [CPU]"
     ]
    },
    {
     "name": "stderr",
     "output_type": "stream",
     "text": [
      "Action: emotion: 100%|██████████| 3/3 [00:00<00:00, 15.92it/s]\n"
     ]
    },
    {
     "name": "stdout",
     "output_type": "stream",
     "text": [
      "กำลังประมวลผล: 7.4% (494/6664) [CPU]"
     ]
    },
    {
     "name": "stderr",
     "output_type": "stream",
     "text": [
      "Action: emotion: 100%|██████████| 3/3 [00:00<00:00, 16.01it/s]\n"
     ]
    },
    {
     "name": "stdout",
     "output_type": "stream",
     "text": [
      "กำลังประมวลผล: 7.5% (499/6664) [CPU]"
     ]
    },
    {
     "name": "stderr",
     "output_type": "stream",
     "text": [
      "Action: emotion: 100%|██████████| 3/3 [00:00<00:00, 15.57it/s]\n"
     ]
    },
    {
     "name": "stdout",
     "output_type": "stream",
     "text": [
      "กำลังประมวลผล: 7.6% (504/6664) [CPU]"
     ]
    },
    {
     "name": "stderr",
     "output_type": "stream",
     "text": [
      "Action: emotion: 100%|██████████| 3/3 [00:00<00:00, 16.77it/s]\n"
     ]
    },
    {
     "name": "stdout",
     "output_type": "stream",
     "text": [
      "กำลังประมวลผล: 7.6% (509/6664) [CPU]"
     ]
    },
    {
     "name": "stderr",
     "output_type": "stream",
     "text": [
      "Action: emotion: 100%|██████████| 3/3 [00:00<00:00, 15.59it/s]\n"
     ]
    },
    {
     "name": "stdout",
     "output_type": "stream",
     "text": [
      "กำลังประมวลผล: 7.7% (514/6664) [CPU]"
     ]
    },
    {
     "name": "stderr",
     "output_type": "stream",
     "text": [
      "Action: emotion: 100%|██████████| 3/3 [00:00<00:00, 15.55it/s]\n"
     ]
    },
    {
     "name": "stdout",
     "output_type": "stream",
     "text": [
      "กำลังประมวลผล: 7.8% (519/6664) [CPU]"
     ]
    },
    {
     "name": "stderr",
     "output_type": "stream",
     "text": [
      "Action: emotion: 100%|██████████| 3/3 [00:00<00:00, 16.57it/s]\n"
     ]
    },
    {
     "name": "stdout",
     "output_type": "stream",
     "text": [
      "กำลังประมวลผล: 7.9% (524/6664) [CPU]"
     ]
    },
    {
     "name": "stderr",
     "output_type": "stream",
     "text": [
      "Action: emotion: 100%|██████████| 3/3 [00:00<00:00, 15.61it/s]\n"
     ]
    },
    {
     "name": "stdout",
     "output_type": "stream",
     "text": [
      "กำลังประมวลผล: 7.9% (529/6664) [CPU]"
     ]
    },
    {
     "name": "stderr",
     "output_type": "stream",
     "text": [
      "Action: emotion: 100%|██████████| 3/3 [00:00<00:00, 16.64it/s]\n"
     ]
    },
    {
     "name": "stdout",
     "output_type": "stream",
     "text": [
      "กำลังประมวลผล: 8.0% (534/6664) [CPU]"
     ]
    },
    {
     "name": "stderr",
     "output_type": "stream",
     "text": [
      "Action: emotion: 100%|██████████| 3/3 [00:00<00:00, 16.81it/s]\n"
     ]
    },
    {
     "name": "stdout",
     "output_type": "stream",
     "text": [
      "กำลังประมวลผล: 8.1% (539/6664) [CPU]"
     ]
    },
    {
     "name": "stderr",
     "output_type": "stream",
     "text": [
      "Action: emotion: 100%|██████████| 3/3 [00:00<00:00, 16.73it/s]\n"
     ]
    },
    {
     "name": "stdout",
     "output_type": "stream",
     "text": [
      "กำลังประมวลผล: 8.2% (544/6664) [CPU]"
     ]
    },
    {
     "name": "stderr",
     "output_type": "stream",
     "text": [
      "Action: emotion: 100%|██████████| 3/3 [00:00<00:00, 17.06it/s]\n"
     ]
    },
    {
     "name": "stdout",
     "output_type": "stream",
     "text": [
      "กำลังประมวลผล: 8.2% (549/6664) [CPU]"
     ]
    },
    {
     "name": "stderr",
     "output_type": "stream",
     "text": [
      "Action: emotion: 100%|██████████| 3/3 [00:00<00:00, 15.77it/s]\n"
     ]
    },
    {
     "name": "stdout",
     "output_type": "stream",
     "text": [
      "กำลังประมวลผล: 8.3% (554/6664) [CPU]"
     ]
    },
    {
     "name": "stderr",
     "output_type": "stream",
     "text": [
      "Action: emotion: 100%|██████████| 3/3 [00:00<00:00, 16.33it/s]\n"
     ]
    },
    {
     "name": "stdout",
     "output_type": "stream",
     "text": [
      "กำลังประมวลผล: 8.4% (559/6664) [CPU]"
     ]
    },
    {
     "name": "stderr",
     "output_type": "stream",
     "text": [
      "Action: emotion: 100%|██████████| 3/3 [00:00<00:00, 16.54it/s]\n"
     ]
    },
    {
     "name": "stdout",
     "output_type": "stream",
     "text": [
      "กำลังประมวลผล: 8.5% (564/6664) [CPU]"
     ]
    },
    {
     "name": "stderr",
     "output_type": "stream",
     "text": [
      "Action: emotion: 100%|██████████| 3/3 [00:00<00:00, 16.46it/s]\n"
     ]
    },
    {
     "name": "stdout",
     "output_type": "stream",
     "text": [
      "กำลังประมวลผล: 8.5% (569/6664) [CPU]"
     ]
    },
    {
     "name": "stderr",
     "output_type": "stream",
     "text": [
      "Action: emotion: 100%|██████████| 3/3 [00:00<00:00, 16.84it/s]\n"
     ]
    },
    {
     "name": "stdout",
     "output_type": "stream",
     "text": [
      "กำลังประมวลผล: 8.6% (574/6664) [CPU]"
     ]
    },
    {
     "name": "stderr",
     "output_type": "stream",
     "text": [
      "Action: emotion: 100%|██████████| 3/3 [00:00<00:00, 16.78it/s]\n"
     ]
    },
    {
     "name": "stdout",
     "output_type": "stream",
     "text": [
      "กำลังประมวลผล: 8.7% (579/6664) [CPU]"
     ]
    },
    {
     "name": "stderr",
     "output_type": "stream",
     "text": [
      "Action: emotion: 100%|██████████| 3/3 [00:00<00:00, 16.51it/s]\n"
     ]
    },
    {
     "name": "stdout",
     "output_type": "stream",
     "text": [
      "กำลังประมวลผล: 8.8% (584/6664) [CPU]"
     ]
    },
    {
     "name": "stderr",
     "output_type": "stream",
     "text": [
      "Action: emotion: 100%|██████████| 3/3 [00:00<00:00, 16.67it/s]\n"
     ]
    },
    {
     "name": "stdout",
     "output_type": "stream",
     "text": [
      "กำลังประมวลผล: 8.8% (589/6664) [CPU]"
     ]
    },
    {
     "name": "stderr",
     "output_type": "stream",
     "text": [
      "Action: emotion: 100%|██████████| 3/3 [00:00<00:00, 16.49it/s]\n"
     ]
    },
    {
     "name": "stdout",
     "output_type": "stream",
     "text": [
      "กำลังประมวลผล: 8.9% (594/6664) [CPU]"
     ]
    },
    {
     "name": "stderr",
     "output_type": "stream",
     "text": [
      "Action: emotion: 100%|██████████| 3/3 [00:00<00:00, 15.77it/s]\n"
     ]
    },
    {
     "name": "stdout",
     "output_type": "stream",
     "text": [
      "กำลังประมวลผล: 9.0% (599/6664) [CPU]"
     ]
    },
    {
     "name": "stderr",
     "output_type": "stream",
     "text": [
      "Action: emotion: 100%|██████████| 3/3 [00:00<00:00, 16.73it/s]\n"
     ]
    },
    {
     "name": "stdout",
     "output_type": "stream",
     "text": [
      "กำลังประมวลผล: 9.1% (604/6664) [CPU]"
     ]
    },
    {
     "name": "stderr",
     "output_type": "stream",
     "text": [
      "Action: emotion: 100%|██████████| 3/3 [00:00<00:00, 16.28it/s]\n"
     ]
    },
    {
     "name": "stdout",
     "output_type": "stream",
     "text": [
      "กำลังประมวลผล: 9.1% (609/6664) [CPU]"
     ]
    },
    {
     "name": "stderr",
     "output_type": "stream",
     "text": [
      "Action: emotion: 100%|██████████| 3/3 [00:00<00:00, 16.79it/s]\n"
     ]
    },
    {
     "name": "stdout",
     "output_type": "stream",
     "text": [
      "กำลังประมวลผล: 9.2% (614/6664) [CPU]"
     ]
    },
    {
     "name": "stderr",
     "output_type": "stream",
     "text": [
      "Action: emotion: 100%|██████████| 3/3 [00:00<00:00, 17.01it/s]\n"
     ]
    },
    {
     "name": "stdout",
     "output_type": "stream",
     "text": [
      "กำลังประมวลผล: 9.2% (615/6664) [CPU]\n",
      "หยุดการวิเคราะห์โดยผู้ใช้\n",
      "\n",
      "เสร็จสิ้นการวิเคราะห์ - ใช้อุปกรณ์: CPU\n"
     ]
    }
   ],
   "source": [
    "import cv2\n",
    "from deepface import DeepFace\n",
    "import os\n",
    "import numpy as np\n",
    "import mediapipe as mp\n",
    "import tensorflow as tf\n",
    "\n",
    "# ตั้งค่าให้ใช้ GPU\n",
    "physical_devices = tf.config.experimental.list_physical_devices('GPU')\n",
    "if len(physical_devices) > 0:\n",
    "    tf.config.experimental.set_memory_growth(physical_devices[0], True)\n",
    "    print(\"✓ GPU พร้อมใช้งาน\")\n",
    "else:\n",
    "    print(\"⚠ ไม่พบ GPU - ใช้ CPU\")\n",
    "\n",
    "# ตั้งค่า MediaPipe สำหรับ Face Landmarks\n",
    "mp_face_mesh = mp.solutions.face_mesh\n",
    "mp_drawing = mp.solutions.drawing_utils\n",
    "mp_drawing_styles = mp.solutions.drawing_styles\n",
    "\n",
    "# สร้าง Face Mesh detector\n",
    "face_mesh = mp_face_mesh.FaceMesh(\n",
    "    max_num_faces=1,\n",
    "    refine_landmarks=True,\n",
    "    min_detection_confidence=0.5,\n",
    "    min_tracking_confidence=0.5\n",
    ")\n",
    "\n",
    "# ระบุพาธของไฟล์วิดีโอ\n",
    "video_path = \"girl.mp4\"  # เปลี่ยนเป็นชื่อไฟล์วิดีโอของคุณ\n",
    "\n",
    "# ตรวจสอบว่าไฟล์วิดีโอมีอยู่จริง\n",
    "if not os.path.exists(video_path):\n",
    "    print(f\"ไม่พบไฟล์วิดีโอ: {video_path}\")\n",
    "    print(\"กรุณาใส่ชื่อไฟล์วิดีโอที่ถูกต้อง\")\n",
    "    exit()\n",
    "\n",
    "# เปิดไฟล์วิดีโอ\n",
    "cap = cv2.VideoCapture(video_path)\n",
    "\n",
    "# ตรวจสอบว่าเปิดวิดีโอได้หรือไม่\n",
    "if not cap.isOpened():\n",
    "    print(\"ไม่สามารถเปิดไฟล์วิดีโอได้\")\n",
    "    exit()\n",
    "\n",
    "# ดึงข้อมูลวิดีโอ\n",
    "fps = int(cap.get(cv2.CAP_PROP_FPS))\n",
    "total_frames = int(cap.get(cv2.CAP_PROP_FRAME_COUNT))\n",
    "duration = total_frames / fps\n",
    "\n",
    "print(f\"กำลังวิเคราะห์วิดีโอ: {video_path}\")\n",
    "print(f\"FPS: {fps}, จำนวนเฟรม: {total_frames}, ระยะเวลา: {duration:.2f} วินาที\")\n",
    "\n",
    "frame_count = 0\n",
    "\n",
    "# เก็บข้อมูลการวิเคราะห์ล่าสุด (สำหรับตาราง)\n",
    "analysis_history = []\n",
    "max_history = 10  # แสดงข้อมูล 10 ช่วงเวลาล่าสุด\n",
    "\n",
    "def draw_face_landmarks(image, landmarks, connections=None):\n",
    "    \"\"\"วาดจุดมาร์คบนใบหน้า\"\"\"\n",
    "    if landmarks is None:\n",
    "        return image\n",
    "    \n",
    "    h, w, _ = image.shape\n",
    "    \n",
    "    # วาดจุดสำคัญ (ดวงตา, จมูก, ปาก, คิ้ว)\n",
    "    important_points = [\n",
    "        # ดวงตาซ้าย\n",
    "        33, 7, 163, 144, 145, 153, 154, 155, 133, 173, 157, 158, 159, 160, 161, 246,\n",
    "        # ดวงตาขวา  \n",
    "        362, 382, 381, 380, 374, 373, 390, 249, 263, 466, 388, 387, 386, 385, 384, 398,\n",
    "        # คิ้วซ้าย\n",
    "        46, 53, 52, 51, 48, 115, 131, 134, 102, 49, 220, 305,\n",
    "        # คิ้วขวา\n",
    "        276, 283, 282, 295, 285, 336, 296, 334, 293, 300, 276, 283,\n",
    "        # จมูก\n",
    "        1, 2, 5, 4, 6, 19, 20, 94, 125, 141, 235, 236, 3, 51, 48, 115, 131, 134, 102, 49, 220, 305,\n",
    "        # ปาก\n",
    "        0, 17, 18, 200, 199, 175, 0, 16, 17, 18, 200, 199, 175, 8, 9, 10, 151, 8, 9, 10, 151\n",
    "    ]\n",
    "    \n",
    "    # วาดจุดหลัก\n",
    "    for idx in important_points:\n",
    "        if idx < len(landmarks.landmark):\n",
    "            x = int(landmarks.landmark[idx].x * w)\n",
    "            y = int(landmarks.landmark[idx].y * h)\n",
    "            cv2.circle(image, (x, y), 2, (0, 255, 0), -1)\n",
    "    \n",
    "    # วาดเส้นเชื่อมจุดสำคัญ\n",
    "    # ดวงตาซ้าย\n",
    "    left_eye = [33, 7, 163, 144, 145, 153, 154, 155, 133, 173, 157, 158, 159, 160, 161, 246]\n",
    "    for i in range(len(left_eye)):\n",
    "        if left_eye[i] < len(landmarks.landmark) and left_eye[(i+1)%len(left_eye)] < len(landmarks.landmark):\n",
    "            x1 = int(landmarks.landmark[left_eye[i]].x * w)\n",
    "            y1 = int(landmarks.landmark[left_eye[i]].y * h)\n",
    "            x2 = int(landmarks.landmark[left_eye[(i+1)%len(left_eye)]].x * w)\n",
    "            y2 = int(landmarks.landmark[left_eye[(i+1)%len(left_eye)]].y * h)\n",
    "            cv2.line(image, (x1, y1), (x2, y2), (255, 0, 0), 1)\n",
    "    \n",
    "    # ดวงตาขวา\n",
    "    right_eye = [362, 382, 381, 380, 374, 373, 390, 249, 263, 466, 388, 387, 386, 385, 384, 398]\n",
    "    for i in range(len(right_eye)):\n",
    "        if right_eye[i] < len(landmarks.landmark) and right_eye[(i+1)%len(right_eye)] < len(landmarks.landmark):\n",
    "            x1 = int(landmarks.landmark[right_eye[i]].x * w)\n",
    "            y1 = int(landmarks.landmark[right_eye[i]].y * h)\n",
    "            x2 = int(landmarks.landmark[right_eye[(i+1)%len(right_eye)]].x * w)\n",
    "            y2 = int(landmarks.landmark[right_eye[(i+1)%len(right_eye)]].y * h)\n",
    "            cv2.line(image, (x1, y1), (x2, y2), (255, 0, 0), 1)\n",
    "    \n",
    "    # เส้นขอบใบหน้า\n",
    "    face_oval = [10, 338, 297, 332, 284, 251, 389, 356, 454, 323, 361, 288, 397, 365, 379, 378, 400, 377, 152, 148, 176, 149, 150, 136, 172, 58, 132, 93, 234, 127, 162, 21, 54, 103, 67, 109]\n",
    "    for i in range(len(face_oval)):\n",
    "        if face_oval[i] < len(landmarks.landmark) and face_oval[(i+1)%len(face_oval)] < len(landmarks.landmark):\n",
    "            x1 = int(landmarks.landmark[face_oval[i]].x * w)\n",
    "            y1 = int(landmarks.landmark[face_oval[i]].y * h)\n",
    "            x2 = int(landmarks.landmark[face_oval[(i+1)%len(face_oval)]].x * w)\n",
    "            y2 = int(landmarks.landmark[face_oval[(i+1)%len(face_oval)]].y * h)\n",
    "            cv2.line(image, (x1, y1), (x2, y2), (0, 255, 255), 1)\n",
    "    \n",
    "    return image\n",
    "\n",
    "def create_table_image(history, current_data=None):\n",
    "    \"\"\"สร้างภาพตารางข้อมูลการวิเคราะห์\"\"\"\n",
    "    table_height = 400\n",
    "    table_width = 650\n",
    "    table_img = np.zeros((table_height, table_width, 3), dtype=np.uint8)\n",
    "    table_img.fill(30)  # พื้นหลังสีเทาเข้ม\n",
    "    \n",
    "    # หัวตาราง\n",
    "    headers = [\"Time(s)\", \"Age\", \"Gender\", \"Emotion\", \"GPU\"]\n",
    "    header_y = 40\n",
    "    col_widths = [80, 60, 100, 150, 80]\n",
    "    col_x = [30, 110, 170, 270, 420]\n",
    "    \n",
    "    # วาดหัวตาราง\n",
    "    for i, header in enumerate(headers):\n",
    "        cv2.putText(table_img, header, (col_x[i], header_y), \n",
    "                   cv2.FONT_HERSHEY_SIMPLEX, 0.5, (255, 255, 255), 2)\n",
    "    \n",
    "    # วาดเส้นใต้หัวตาราง\n",
    "    cv2.line(table_img, (20, header_y + 10), (table_width - 20, header_y + 10), \n",
    "             (255, 255, 255), 2)\n",
    "    \n",
    "    # วาดข้อมูลในตาราง\n",
    "    start_y = header_y + 40\n",
    "    row_height = 30\n",
    "    \n",
    "    # แสดงข้อมูลปัจจุบัน (สีเขียว)\n",
    "    if current_data:\n",
    "        y_pos = start_y\n",
    "        gpu_status = \"ON\" if len(physical_devices) > 0 else \"OFF\"\n",
    "        data = [\n",
    "            f\"{current_data['time']:.1f}\",\n",
    "            str(current_data['age']),\n",
    "            current_data['gender'],\n",
    "            current_data['emotion'],\n",
    "            gpu_status\n",
    "        ]\n",
    "        \n",
    "        for i, value in enumerate(data):\n",
    "            color = (0, 255, 0) if i < 4 else (0, 255, 255) if gpu_status == \"ON\" else (0, 0, 255)\n",
    "            cv2.putText(table_img, value, (col_x[i], y_pos), \n",
    "                       cv2.FONT_HERSHEY_SIMPLEX, 0.4, color, 1)\n",
    "        \n",
    "        # วาดเส้นใต้แถวปัจจุบัน\n",
    "        cv2.line(table_img, (20, y_pos + 5), (table_width - 20, y_pos + 5), \n",
    "                 (0, 255, 0), 1)\n",
    "    \n",
    "    # แสดงประวัติ (สีขาว)\n",
    "    for idx, record in enumerate(history[-8:]):  # แสดง 8 แถวก่อนหน้า\n",
    "        y_pos = start_y + (idx + 2) * row_height\n",
    "        if y_pos > table_height - 30:\n",
    "            break\n",
    "            \n",
    "        gpu_status = \"ON\" if len(physical_devices) > 0 else \"OFF\"\n",
    "        data = [\n",
    "            f\"{record['time']:.1f}\",\n",
    "            str(record['age']),\n",
    "            record['gender'],\n",
    "            record['emotion'],\n",
    "            gpu_status\n",
    "        ]\n",
    "        \n",
    "        for i, value in enumerate(data):\n",
    "            cv2.putText(table_img, value, (col_x[i], y_pos), \n",
    "                       cv2.FONT_HERSHEY_SIMPLEX, 0.35, (180, 180, 180), 1)\n",
    "    \n",
    "    # วาดกรอบตาราง\n",
    "    cv2.rectangle(table_img, (20, 20), (table_width - 20, table_height - 20), \n",
    "                  (255, 255, 255), 2)\n",
    "    \n",
    "    # วาดเส้นแนวตั้ง\n",
    "    for x in col_x[1:]:\n",
    "        cv2.line(table_img, (x - 10, 20), (x - 10, table_height - 20), \n",
    "                 (255, 255, 255), 1)\n",
    "    \n",
    "    # แสดงสถานะ GPU ด้านบน\n",
    "    gpu_text = f\"GPU Status: {'ENABLED' if len(physical_devices) > 0 else 'DISABLED'}\"\n",
    "    gpu_color = (0, 255, 0) if len(physical_devices) > 0 else (0, 0, 255)\n",
    "    cv2.putText(table_img, gpu_text, (table_width - 200, 15), \n",
    "               cv2.FONT_HERSHEY_SIMPLEX, 0.4, gpu_color, 1)\n",
    "    \n",
    "    return table_img\n",
    "\n",
    "while True:\n",
    "    ret, frame = cap.read()\n",
    "    if not ret:\n",
    "        print(\"จบการวิเคราะห์วิดีโอ\")\n",
    "        break\n",
    "\n",
    "    frame_count += 1\n",
    "    current_time = frame_count / fps\n",
    "    \n",
    "    # แปลงสีสำหรับ MediaPipe\n",
    "    rgb_frame = cv2.cvtColor(frame, cv2.COLOR_BGR2RGB)\n",
    "\n",
    "    try:\n",
    "        # ตรวจจับจุดมาร์คบนใบหน้า\n",
    "        results = face_mesh.process(rgb_frame)\n",
    "        \n",
    "        # วาดจุดมาร์คบนใบหน้า\n",
    "        if results.multi_face_landmarks:\n",
    "            for face_landmarks in results.multi_face_landmarks:\n",
    "                # วิธีแสดงแบบง่าย (จุดเท่านั้น)\n",
    "                # mp_drawing.draw_landmarks(\n",
    "                #     frame, face_landmarks, mp_face_mesh.FACEMESH_CONTOURS,\n",
    "                #     None, mp_drawing_styles.get_default_face_mesh_contours_style())\n",
    "                \n",
    "                # วิธีแสดงแบบกำหนดเอง\n",
    "                frame = draw_face_landmarks(frame, face_landmarks)\n",
    "        \n",
    "        # วิเคราะห์อายุ เพศ อารมณ์ (ทุก 5 เฟรมเพื่อลดการประมวลผล)\n",
    "        if frame_count % 5 == 0:\n",
    "            with tf.device('/GPU:0' if len(physical_devices) > 0 else '/CPU:0'):\n",
    "                result = DeepFace.analyze(\n",
    "                    frame,\n",
    "                    actions=['age', 'gender', 'emotion'],\n",
    "                    detector_backend='opencv',\n",
    "                    enforce_detection=False\n",
    "                )\n",
    "\n",
    "            # ตรวจว่า result เป็น list หรือ dict\n",
    "            if isinstance(result, list):\n",
    "                result = result[0]\n",
    "\n",
    "            age = result.get('age', 'N/A')\n",
    "            gender_data = result.get('gender', {})\n",
    "            if isinstance(gender_data, dict):\n",
    "                gender = max(gender_data, key=gender_data.get) if gender_data else 'N/A'\n",
    "            else:\n",
    "                gender = gender_data\n",
    "            emotion = result.get('dominant_emotion', 'N/A')\n",
    "\n",
    "            # เก็บข้อมูลล่าสุด\n",
    "            current_analysis = {\n",
    "                'time': current_time,\n",
    "                'age': age,\n",
    "                'gender': gender,\n",
    "                'emotion': emotion\n",
    "            }\n",
    "            \n",
    "            # เพิ่มข้อมูลใหม่ลงในประวัติ\n",
    "            analysis_history.append(current_analysis.copy())\n",
    "            if len(analysis_history) > max_history:\n",
    "                analysis_history.pop(0)\n",
    "        else:\n",
    "            # ใช้ข้อมูลล่าสุดถ้าไม่ได้วิเคราะห์เฟรมนี้\n",
    "            if analysis_history:\n",
    "                current_analysis = analysis_history[-1].copy()\n",
    "                current_analysis['time'] = current_time\n",
    "            else:\n",
    "                current_analysis = {\n",
    "                    'time': current_time,\n",
    "                    'age': 'N/A',\n",
    "                    'gender': 'N/A', \n",
    "                    'emotion': 'N/A'\n",
    "                }\n",
    "\n",
    "        # วาดข้อความบนวิดีโอ\n",
    "        gpu_status = \"GPU\" if len(physical_devices) > 0 else \"CPU\"\n",
    "        text1 = f\"Age: {current_analysis['age']} | Gender: {current_analysis['gender']} | Emotion: {current_analysis['emotion']}\"\n",
    "        text2 = f\"Time: {current_time:.2f}s | Frame: {frame_count}/{total_frames} | Device: {gpu_status}\"\n",
    "        \n",
    "        cv2.putText(frame, text1, (20, 40), cv2.FONT_HERSHEY_SIMPLEX,\n",
    "                    0.7, (0, 255, 0), 2, cv2.LINE_AA)\n",
    "        cv2.putText(frame, text2, (20, 80), cv2.FONT_HERSHEY_SIMPLEX,\n",
    "                    0.5, (255, 255, 255), 2, cv2.LINE_AA)\n",
    "\n",
    "        # สร้างตารางข้อมูล\n",
    "        table_img = create_table_image(analysis_history[:-1] if len(analysis_history) > 1 else [], \n",
    "                                     current_analysis)\n",
    "\n",
    "        # แสดงความคืบหน้า\n",
    "        progress = (frame_count / total_frames) * 100\n",
    "        print(f\"\\rกำลังประมวลผล: {progress:.1f}% ({frame_count}/{total_frames}) [{gpu_status}]\", end=\"\")\n",
    "\n",
    "    except Exception as e:\n",
    "        print(f\"\\nError ที่เฟรม {frame_count}: {e}\")\n",
    "        # สร้างตารางว่างถ้าเกิดข้อผิดพลาด\n",
    "        table_img = create_table_image(analysis_history)\n",
    "\n",
    "    # แสดงภาพวิดีโอและตาราง\n",
    "    cv2.imshow(\"Video Analysis with Face Landmarks\", frame)\n",
    "    cv2.imshow(\"Analysis Data Table\", table_img)\n",
    "\n",
    "    # แสดงคำแนะนำ\n",
    "    if frame_count == 1:\n",
    "        print(f\"\\n{'='*60}\")\n",
    "        print(\"คำแนะนำการใช้งาน:\")\n",
    "        print(\"- กด 'q' หรือ 'ESC' เพื่อออกจากโปรแกรม\")\n",
    "        print(\"- กด 'Space' เพื่อหยุดชั่วคราว\")\n",
    "        print(\"- สีเขียว: จุดมาร์คบนใบหน้า\")\n",
    "        print(\"- สีน้ำเงิน: เส้นรอบดวงตา\")\n",
    "        print(\"- สีเหลือง: เส้นขอบใบหน้า\")\n",
    "        print(f\"{'='*60}\")\n",
    "\n",
    "    # ออกจากโปรแกรมเมื่อกด 'q' หรือ 'ESC' หรือ 'Space' เพื่อหยุดชั่วคราว\n",
    "    key = cv2.waitKey(1) & 0xFF\n",
    "    if key == ord('q') or key == 27:  # 'q' หรือ ESC\n",
    "        print(\"\\nหยุดการวิเคราะห์โดยผู้ใช้\")\n",
    "        break\n",
    "    elif key == ord(' '):  # Space bar\n",
    "        print(\"\\nหยุดชั่วคราว - กด 'c' เพื่อดำเนินการต่อ หรือ 'q' เพื่อออก\")\n",
    "        while True:\n",
    "            key = cv2.waitKey(0) & 0xFF\n",
    "            if key == ord('c'):\n",
    "                print(\"ดำเนินการต่อ...\")\n",
    "                break\n",
    "            elif key == ord('q') or key == 27:\n",
    "                print(\"ออกจากโปรแกรม...\")\n",
    "                cap.release()\n",
    "                cv2.destroyAllWindows()\n",
    "                exit()\n",
    "\n",
    "# ปิดวิดีโอและหน้าต่าง\n",
    "cap.release()\n",
    "cv2.destroyAllWindows()\n",
    "print(f\"\\nเสร็จสิ้นการวิเคราะห์ - ใช้อุปกรณ์: {gpu_status}\")"
   ]
  },
  {
   "cell_type": "code",
   "execution_count": 3,
   "id": "1318b651",
   "metadata": {},
   "outputs": [
    {
     "name": "stdout",
     "output_type": "stream",
     "text": [
      "GPU devices: []\n"
     ]
    }
   ],
   "source": [
    "import tensorflow as tf\n",
    "print(\"GPU devices:\", tf.config.list_physical_devices('GPU'))"
   ]
  },
  {
   "cell_type": "code",
   "execution_count": 2,
   "id": "b8b4ecdd",
   "metadata": {},
   "outputs": [
    {
     "name": "stdout",
     "output_type": "stream",
     "text": [
      "TensorFlow version: 2.19.0\n",
      "Built with CUDA: False\n",
      "GPU available: False\n"
     ]
    }
   ],
   "source": [
    "import tensorflow as tf\n",
    "print(\"TensorFlow version:\", tf.__version__)\n",
    "print(\"Built with CUDA:\", tf.test.is_built_with_cuda())\n",
    "print(\"GPU available:\", tf.test.is_gpu_available())"
   ]
  },
  {
   "cell_type": "code",
   "execution_count": 4,
   "id": "9138626b",
   "metadata": {},
   "outputs": [
    {
     "name": "stdout",
     "output_type": "stream",
     "text": [
      "TensorFlow version: 2.19.0\n",
      "Num GPUs Available: 0\n"
     ]
    }
   ],
   "source": [
    "import tensorflow as tf\n",
    "print(\"TensorFlow version:\", tf.__version__)\n",
    "print(\"Num GPUs Available:\", len(tf.config.list_physical_devices('GPU')))"
   ]
  }
 ],
 "metadata": {
  "kernelspec": {
   "display_name": "DeepfaceGPU2",
   "language": "python",
   "name": "python3"
  },
  "language_info": {
   "codemirror_mode": {
    "name": "ipython",
    "version": 3
   },
   "file_extension": ".py",
   "mimetype": "text/x-python",
   "name": "python",
   "nbconvert_exporter": "python",
   "pygments_lexer": "ipython3",
   "version": "3.10.18"
  }
 },
 "nbformat": 4,
 "nbformat_minor": 5
}
